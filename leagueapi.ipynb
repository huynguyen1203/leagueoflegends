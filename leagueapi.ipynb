{
 "cells": [
  {
   "cell_type": "code",
   "execution_count": 64,
   "metadata": {},
   "outputs": [],
   "source": [
    "import requests as req\n",
    "import pandas as pd\n",
    "import json\n",
    "from datetime import datetime"
   ]
  },
  {
   "cell_type": "code",
   "execution_count": 65,
   "metadata": {},
   "outputs": [],
   "source": [
    "apikey = 'RGAPI-3f394bdc-53f3-4c5e-b336-e04c7b9cfcf4'\n",
    "server = 'https://na1.api.riotgames.com'"
   ]
  },
  {
   "cell_type": "code",
   "execution_count": 66,
   "metadata": {},
   "outputs": [],
   "source": [
    "def summoner(summoner_name):\n",
    "    summoner_info = '/lol/summoner/v4/summoners/by-name/' + summoner_name\n",
    "    url = server + summoner_info +'?api_key=' + apikey\n",
    "    resp = req.get(url)\n",
    "    return json.loads(resp.text)"
   ]
  },
  {
   "cell_type": "code",
   "execution_count": 71,
   "metadata": {},
   "outputs": [],
   "source": [
    "def matches(summoner_name):\n",
    "    accountid = summoner(summoner_name)['accountId']\n",
    "    match_list= '/lol/match/v4/matchlists/by-account/' + accountid\n",
    "    url = server + match_list +'?queue=440&season=13&' +'?api_key=' + apikey\n",
    "    resp = req.get(url)\n",
    "    return json.loads(resp.text)"
   ]
  },
  {
   "cell_type": "code",
   "execution_count": 74,
   "metadata": {},
   "outputs": [
    {
     "name": "stdout",
     "output_type": "stream",
     "text": [
      "Is the queue name correct? Below is the queue type:\n",
      "None\n",
      "5v5 Blind Pick games\n",
      "5v5 Ranked Solo games\n",
      "5v5 Ranked Premade games\n",
      "Co-op vs AI games\n",
      "3v3 Normal games\n",
      "3v3 Ranked Flex games\n",
      "5v5 Draft Pick games\n",
      "5v5 Dominion Blind Pick games\n",
      "5v5 Dominion Draft Pick games\n",
      "Dominion Co-op vs AI games\n",
      "Co-op vs AI Intro Bot games\n",
      "Co-op vs AI Beginner Bot games\n",
      "Co-op vs AI Intermediate Bot games\n",
      "3v3 Ranked Team games\n",
      "5v5 Ranked Team games\n",
      "Co-op vs AI games\n",
      "5v5 Team Builder games\n",
      "5v5 ARAM games\n",
      "ARAM Co-op vs AI games\n",
      "One for All games\n",
      "1v1 Snowdown Showdown games\n",
      "2v2 Snowdown Showdown games\n",
      "6v6 Hexakill games\n",
      "Ultra Rapid Fire games\n",
      "One For All: Mirror Mode games\n",
      "Co-op vs AI Ultra Rapid Fire games\n",
      "Doom Bots Rank 1 games\n",
      "Doom Bots Rank 2 games\n",
      "Doom Bots Rank 5 games\n",
      "Ascension games\n",
      "6v6 Hexakill games\n",
      "5v5 ARAM games\n",
      "Legend of the Poro King games\n",
      "Nemesis games\n",
      "Black Market Brawlers games\n",
      "Nexus Siege games\n",
      "Definitely Not Dominion games\n",
      "ARURF games\n",
      "All Random games\n",
      "5v5 Draft Pick games\n",
      "5v5 Ranked Dynamic games\n",
      "5v5 Ranked Solo games\n",
      "5v5 Blind Pick games\n",
      "5v5 Ranked Flex games\n",
      "5v5 ARAM games\n",
      "3v3 Blind Pick games\n",
      "3v3 Ranked Flex games\n",
      "Blood Hunt Assassin games\n",
      "Dark Star: Singularity games\n",
      "Clash games\n",
      "Co-op vs. AI Intermediate Bot games\n",
      "Co-op vs. AI Intro Bot games\n",
      "Co-op vs. AI Beginner Bot games\n",
      "Co-op vs. AI Intro Bot games\n",
      "Co-op vs. AI Beginner Bot games\n",
      "Co-op vs. AI Intermediate Bot games\n",
      "URF games\n",
      "Ascension games\n",
      "Legend of the Poro King games\n",
      "Nexus Siege games\n",
      "Doom Bots Voting games\n",
      "Doom Bots Standard games\n",
      "Star Guardian Invasion: Normal games\n",
      "Star Guardian Invasion: Onslaught games\n",
      "PROJECT: Hunters games\n",
      "Snow ARURF games\n",
      "One for All games\n",
      "Odyssey Extraction: Intro games\n",
      "Odyssey Extraction: Cadet games\n",
      "Odyssey Extraction: Crewmember games\n",
      "Odyssey Extraction: Captain games\n",
      "Odyssey Extraction: Onslaught games\n",
      "Teamfight Tactics games\n",
      "Ranked Teamfight Tactics games\n",
      "Nexus Blitz games\n"
     ]
    }
   ],
   "source": [
    "def championid(champion_name):\n",
    "    try:\n",
    "        with open('championlist.json', 'r', errors='ignore') as myfile:\n",
    "            championlist=json.load(myfile)\n",
    "        return championlist['data'][champion_name]['key']\n",
    "    except:\n",
    "        print('Is the champion name correct?')\n",
    "championid('Ezreal')\n",
    "def queueid(queue_name):\n",
    "    with open('queue_ids.json', errors='ignore') as myfile:\n",
    "        queue_list=json.load(myfile)\n",
    "        for queue in queue_list:\n",
    "            if queue['description'] == queue_name:\n",
    "                return queue['queueId']\n",
    "    print(\"Is the queue name correct? Below is the queue type:\")\n",
    "    for queue in queue_list:\n",
    "            print(queue['description'])\n",
    "    # return queue_list(queue_list.index('null'))['queueId']\n",
    "queueid('asdf')"
   ]
  },
  {
   "cell_type": "code",
   "execution_count": 107,
   "metadata": {},
   "outputs": [
    {
     "name": "stdout",
     "output_type": "stream",
     "text": [
      "{'platformId': 'NA1', 'gameId': 3179595984, 'champion': 111, 'queue': 420, 'season': 13, 'timestamp': 1571545167702, 'role': 'DUO_SUPPORT', 'lane': 'NONE'}\n"
     ]
    }
   ],
   "source": [
    "role_count = {}\n",
    "a = matches('Bright Mind T')['matches']\n",
    "print(a[0])"
   ]
  },
  {
   "cell_type": "code",
   "execution_count": 162,
   "metadata": {},
   "outputs": [],
   "source": [
    "def match_data(gameid):\n",
    "    url = server + '/lol/match/v4/matches/' + str(gameid) + '?api_key=' + apikey\n",
    "    resp = req.get(url)\n",
    "    return json.loads(resp.text)\n",
    "b = []\n",
    "\n",
    "def average_time_play(summonername,samplesize):\n",
    "    counterror = 0\n",
    "    a = matches(summonername)['matches']\n",
    "    for match in a[:samplesize]:\n",
    "        try:\n",
    "            b.append(round(match_data(match['gameId'])['gameDuration']/60,2))\n",
    "        except:\n",
    "            counterror = counterror+1\n",
    "    print(counterror)\n",
    "    sum = 0\n",
    "    for i in b:\n",
    "        sum = sum + i\n",
    "    return sum/len(b)"
   ]
  },
  {
   "cell_type": "code",
   "execution_count": 164,
   "metadata": {},
   "outputs": [
    {
     "name": "stdout",
     "output_type": "stream",
     "text": [
      "2\n"
     ]
    },
    {
     "data": {
      "text/plain": [
       "27.238370786516867"
      ]
     },
     "execution_count": 164,
     "metadata": {},
     "output_type": "execute_result"
    }
   ],
   "source": [
    "average_time_play('The_Amazing_Huy',100)"
   ]
  },
  {
   "cell_type": "code",
   "execution_count": 155,
   "metadata": {},
   "outputs": [
    {
     "data": {
      "text/plain": [
       "0"
      ]
     },
     "execution_count": 155,
     "metadata": {},
     "output_type": "execute_result"
    }
   ],
   "source": [
    "count"
   ]
  },
  {
   "cell_type": "code",
   "execution_count": 133,
   "metadata": {},
   "outputs": [
    {
     "name": "stdout",
     "output_type": "stream",
     "text": [
      "26.050000000000004\n"
     ]
    }
   ],
   "source": [
    "sum = 0\n",
    "for i in b:\n",
    "    sum = sum + i\n",
    "print(sum/len(b))"
   ]
  }
 ],
 "metadata": {
  "kernelspec": {
   "display_name": "Python 3",
   "language": "python",
   "name": "python3"
  },
  "language_info": {
   "codemirror_mode": {
    "name": "ipython",
    "version": 3
   },
   "file_extension": ".py",
   "mimetype": "text/x-python",
   "name": "python",
   "nbconvert_exporter": "python",
   "pygments_lexer": "ipython3",
   "version": "3.7.3"
  }
 },
 "nbformat": 4,
 "nbformat_minor": 4
}
